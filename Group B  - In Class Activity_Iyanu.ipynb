{
 "cells": [
  {
   "cell_type": "markdown",
   "id": "0ec24944",
   "metadata": {},
   "source": [
    "\n",
    "## 📝 Group 2\n",
    "\n",
    "### E: `interleave(s1, s2) → str`\n",
    "\n",
    "**Scenario:**\n",
    "Your application merges two data streams—one with user IDs, one with timestamps—into a single alternating log.\n",
    "\n",
    "**Problem:**\n",
    "Return a new string by alternately taking one character from `s1` then one from `s2`. When one string runs out, append the remainder of the other.\n",
    "\n",
    "**Examples:**\n",
    "\n",
    "```python\n",
    "interleave(\"ACE\", \"BDFG\")    # → \"ABCDEFG\"\n",
    "interleave(\"Hi\", \"There\")    # → \"HTiheere\"\n",
    "interleave(\"\", \"xyz\")        # → \"xyz\"\n",
    "```\n",
    "\n",
    "---\n",
    "\n",
    "### M: `reverse_substrings(s, sub) → str`\n",
    "\n",
    "**Scenario:**\n",
    "A simplistic reversible obfuscator flips specific tokens in log messages to hide sensitive command names.\n",
    "\n",
    "**Problem:**\n",
    "Within the string `s`, replace every non‑overlapping occurrence of `sub` with its reverse. All other characters remain the same. If `sub` is empty or not found, return `s`.\n",
    "\n",
    "**Examples:**\n",
    "\n",
    "```python\n",
    "reverse_substrings(\"abcXYZabc\", \"abc\")  # → \"cbaXYZcba\"\n",
    "reverse_substrings(\"banana\", \"na\")      # → \"bananan\"\n",
    "reverse_substrings(\"hello\", \"\")         # → \"hello\"\n",
    "```\n",
    "\n",
    "---\n",
    "\n",
    "### H: `mask_substrings(s, sub) → str`\n",
    "\n",
    "**Scenario:**\n",
    "In preparing logs for privacy, you need to redact all occurrences of a secret code by replacing them with asterisks.\n",
    "\n",
    "**Problem:**\n",
    "Replace each non‑overlapping occurrence of `sub` in `s` with a sequence of `*` of the same length. Return the transformed string.\n",
    "\n",
    "**Examples:**\n",
    "\n",
    "```python\n",
    "mask_substrings(\"secret secret\", \"sec\")  # → \"***ret ***ret\"\n",
    "mask_substrings(\"aaaa\", \"aa\")            # → \"****\"\n",
    "mask_substrings(\"hello\", \"z\")            # → \"hello\"\n",
    "```\n"
   ]
  },
  {
   "cell_type": "code",
   "execution_count": 1,
   "id": "1b12f2e7",
   "metadata": {
    "vscode": {
     "languageId": "plaintext"
    }
   },
   "outputs": [
    {
     "name": "stdout",
     "output_type": "stream",
     "text": [
      "A B C D E F G\n",
      "H T i h e r e\n",
      "x y z\n"
     ]
    }
   ],
   "source": [
    "def interleave(s1, s2):\n",
    "    #initialize empty list\n",
    "    result = []\n",
    "    #counter starts at 0\n",
    "    i = 0\n",
    "    #loop contnues as long as there's character in both strings\n",
    "    while i < len(s1) or i < len(s2):\n",
    "        if i < len(s1): \n",
    "            result.append(s1[i])            #if 'i' is within s1's length, append its character at index i\n",
    "        if i < len(s2):\n",
    "            result.append(s2[i])            #if 'i' is within s2's length, append its character at index i\n",
    "        i += 1\n",
    "\n",
    "    return ' '.join(result)                 # combine all the characters in 'result' with spaces in between.\n",
    "    \n",
    "print(interleave(\"ACE\", \"BDFG\"))    # → \"ABCDEFG\"\n",
    "print(interleave(\"Hi\", \"There\"))    # → \"HTiheere\"\n",
    "print(interleave(\"\", \"xyz\"))       # → \"xyz\""
   ]
  },
  {
   "cell_type": "code",
   "execution_count": 2,
   "id": "d7fcf203",
   "metadata": {
    "vscode": {
     "languageId": "plaintext"
    }
   },
   "outputs": [
    {
     "name": "stdout",
     "output_type": "stream",
     "text": [
      "cbaXYZcba\n",
      "baanan\n",
      "hello\n"
     ]
    }
   ],
   "source": [
    "def reverse_substrings(s, sub):\n",
    "    if not sub in s: \n",
    "        return s                        #if sub does not exist in s, return s unchanged\n",
    "    return s.replace(sub, sub[::-1])    #otherwise, return every occurence of 'sub' in 's' with its reversed form\n",
    "\n",
    "print(reverse_substrings(\"abcXYZabc\", \"abc\"))   # → \"cbaXYZcba\"\n",
    "print(reverse_substrings(\"banana\", \"na\"))   # → \"bananan\"\n",
    "print(reverse_substrings(\"hello\", \"\"))     # → \"hello\""
   ]
  },
  {
   "cell_type": "code",
   "execution_count": 3,
   "id": "3ae570b0-2980-4789-a916-fd5064f37390",
   "metadata": {},
   "outputs": [
    {
     "name": "stdout",
     "output_type": "stream",
     "text": [
      "***\n",
      "**\n",
      "h\n"
     ]
    }
   ],
   "source": [
    "def mask_substrings(s, sub):\n",
    "    if not sub:\n",
    "        return s #if does not exist in s, return s unchanged\n",
    "\n",
    "    #initialize empty string\n",
    "    result = \"\"\n",
    "    #counter starts at 0\n",
    "    i = 0\n",
    "    #continue checking if substring starting at position i matched 'sub'\n",
    "    while i < len(s):\n",
    "        if s[i:i+len(sub)] == sub:\n",
    "            result += '*' * len(sub) #replace the whole match with asterisks\n",
    "            i += len(sub)      #skip ahead by the length of sub\n",
    "\n",
    "        else:\n",
    "            result += s[i]     #no match - keep the current character\n",
    "            i += 1             #move one character forward\n",
    "\n",
    "        return result\n",
    "\n",
    "print(mask_substrings(\"secret secret\", \"sec\"))      # → \"***ret ***ret\"\n",
    "print(mask_substrings(\"aaaa\", \"aa\"))     # → \"****\"\n",
    "print(mask_substrings(\"hello\", \"z\"))     # → \"hello\"\n"
   ]
  }
 ],
 "metadata": {
  "kernelspec": {
   "display_name": "Python 3 (ipykernel)",
   "language": "python",
   "name": "python3"
  },
  "language_info": {
   "codemirror_mode": {
    "name": "ipython",
    "version": 3
   },
   "file_extension": ".py",
   "mimetype": "text/x-python",
   "name": "python",
   "nbconvert_exporter": "python",
   "pygments_lexer": "ipython3",
   "version": "3.13.3"
  }
 },
 "nbformat": 4,
 "nbformat_minor": 5
}
